{
 "cells": [
  {
   "cell_type": "code",
   "execution_count": 1,
   "metadata": {},
   "outputs": [],
   "source": [
    "import json\n",
    "import os\n",
    "import sys\n",
    "import boto3"
   ]
  },
  {
   "cell_type": "markdown",
   "metadata": {},
   "source": [
    "Set the variables"
   ]
  },
  {
   "cell_type": "code",
   "execution_count": 2,
   "metadata": {},
   "outputs": [],
   "source": [
    "\n",
    "region = 'us-east-1'\n",
    "input_pdf_file = \"./data/letter.pdf\" \n",
    "chunk_size = 1000\n",
    "chunk_overlapp = 100\n",
    "bedrock_max_token = 4096\n",
    "#reduce_chain_max_token = 1000 # 3000 #default loadsummarychain(token_max = reduce_chain_max_token))\n"
   ]
  },
  {
   "cell_type": "markdown",
   "metadata": {},
   "source": [
    "Get a handle to the AWS Bedrock service"
   ]
  },
  {
   "cell_type": "code",
   "execution_count": 3,
   "metadata": {},
   "outputs": [],
   "source": [
    "bedrock_runtime = boto3.client('bedrock-runtime', region_name=region)"
   ]
  },
  {
   "cell_type": "markdown",
   "metadata": {},
   "source": [
    "Read the PDF from the local file system"
   ]
  },
  {
   "cell_type": "code",
   "execution_count": 4,
   "metadata": {},
   "outputs": [
    {
     "name": "stdout",
     "output_type": "stream",
     "text": [
      "10\n"
     ]
    }
   ],
   "source": [
    "from langchain_community.document_loaders import PyPDFLoader\n",
    "loader = PyPDFLoader(input_pdf_file)\n",
    "pages = loader.load()\n",
    "\n",
    "print(len(pages))"
   ]
  },
  {
   "cell_type": "markdown",
   "metadata": {},
   "source": [
    "Use a text splitter to create the chunks"
   ]
  },
  {
   "cell_type": "code",
   "execution_count": 5,
   "metadata": {},
   "outputs": [
    {
     "name": "stdout",
     "output_type": "stream",
     "text": [
      "40\n"
     ]
    }
   ],
   "source": [
    "from langchain.text_splitter import RecursiveCharacterTextSplitter\n",
    "text_splitter = RecursiveCharacterTextSplitter(\n",
    "    separators=[\"\\n\\n\", \"\\n\"], chunk_size=chunk_size, chunk_overlap=chunk_overlapp\n",
    ")\n",
    "docs = text_splitter.split_documents(pages)\n",
    "print(len(docs))"
   ]
  },
  {
   "cell_type": "markdown",
   "metadata": {},
   "source": [
    "Create a handle to the Bedrock LLM"
   ]
  },
  {
   "cell_type": "code",
   "execution_count": 6,
   "metadata": {},
   "outputs": [],
   "source": [
    "from langchain.llms.bedrock import Bedrock\n",
    "modelId = \"amazon.titan-tg1-large\"\n",
    "\n",
    "llm_model = Bedrock(\n",
    "    model_id=modelId,\n",
    "    model_kwargs={\n",
    "        \"maxTokenCount\": bedrock_max_token,\n",
    "        \"stopSequences\": [],\n",
    "        \"temperature\": 0,\n",
    "        \"topP\": 1,\n",
    "    },\n",
    "    client=bedrock_runtime, #boto3_bedrock,\n",
    ")"
   ]
  },
  {
   "cell_type": "markdown",
   "metadata": {},
   "source": [
    "If Ollama is installed the below can be used"
   ]
  },
  {
   "cell_type": "code",
   "execution_count": 7,
   "metadata": {},
   "outputs": [],
   "source": [
    "from langchain.llms import Ollama\n",
    "\n",
    "# get the LLM\n",
    "#llm_model = Ollama(base_url=\"http://localhost:11434\",\n",
    " #            #model=\"wizard-vicuna:latest\",\n",
    "             #model=\"nous-hermes:13b\",\n",
    "   #          model=\"llama2:13b\",\n",
    "            #model=\"codellama:13b\",\n",
    "  #           verbose=True,\n",
    "   #          temperature=0.0)"
   ]
  },
  {
   "cell_type": "markdown",
   "metadata": {},
   "source": [
    "The map reduce prompt and the summarization prompt"
   ]
  },
  {
   "cell_type": "code",
   "execution_count": 8,
   "metadata": {},
   "outputs": [],
   "source": [
    "from langchain import PromptTemplate\n",
    "map_prompt = \"\"\"\n",
    "Write a concise summary of the following:\n",
    "\"{text}\"\n",
    "CONCISE SUMMARY:\n",
    "\"\"\"\n",
    "map_prompt_template = PromptTemplate(template=map_prompt, input_variables=[\"text\"])\n",
    "\n",
    "combine_prompt = \"\"\"\n",
    "Write a concise summary of the following text delimited by triple backquotes that includes the following elements:\n",
    "* A title that accurately reflects the content of the text.\n",
    "* An introduction paragraph that provides an overview of the topic.\n",
    "* Approximately twenty bullet points that list the key points of the text.\n",
    "* A conclusion paragraph that summarizes the main points of the text.\n",
    "```{text}```\n",
    "BULLET POINT SUMMARY:\n",
    "\"\"\"\n",
    "combine_prompt_template = PromptTemplate(template=combine_prompt, input_variables=[\"text\"])"
   ]
  },
  {
   "cell_type": "markdown",
   "metadata": {},
   "source": [
    "load_map_reduce_chain(\n",
    "    llm: BaseLanguageModel,\n",
    "    map_prompt: BasePromptTemplate = map_reduce_prompt.PROMPT,\n",
    "    combine_prompt: BasePromptTemplate = map_reduce_prompt.PROMPT,\n",
    "    combine_document_variable_name: str = \"text\",\n",
    "    map_reduce_document_variable_name: str = \"text\",\n",
    "    collapse_prompt: Optional[BasePromptTemplate] = None,\n",
    "    reduce_llm: Optional[BaseLanguageModel] = None,\n",
    "    collapse_llm: Optional[BaseLanguageModel] = None,\n",
    "    verbose: Optional[bool] = None,\n",
    "    token_max: int = 3000,\n",
    "    callbacks: Callbacks = None,\n",
    "    *,\n",
    "    collapse_max_retries: Optional[int] = None,\n",
    "    **kwargs: Any,"
   ]
  },
  {
   "cell_type": "markdown",
   "metadata": {},
   "source": [
    "Create the map reduce summarization chain that will summarize each document on it’s own in a “map” step and then “reduce” the summaries into a final summary"
   ]
  },
  {
   "cell_type": "code",
   "execution_count": 11,
   "metadata": {},
   "outputs": [],
   "source": [
    "from langchain.chains.summarize import load_summarize_chain\n",
    "summary_chain = load_summarize_chain(llm=llm_model, \n",
    "                                    chain_type=\"map_reduce\", \n",
    "                                    verbose=False,  \n",
    "                                    map_prompt=map_prompt_template, \n",
    "                                    combine_prompt=combine_prompt_template) \n",
    "                                #, token_max = reduce_chain_max_token )\n",
    "                                    "
   ]
  },
  {
   "cell_type": "markdown",
   "metadata": {},
   "source": [
    "Run and print the summarization"
   ]
  },
  {
   "cell_type": "code",
   "execution_count": 12,
   "metadata": {},
   "outputs": [
    {
     "name": "stderr",
     "output_type": "stream",
     "text": [
      "/Users/robbroehl/.pyenv/versions/3.11.7/lib/python3.11/site-packages/tqdm/auto.py:21: TqdmWarning: IProgress not found. Please update jupyter and ipywidgets. See https://ipywidgets.readthedocs.io/en/stable/user_install.html\n",
      "  from .autonotebook import tqdm as notebook_tqdm\n",
      "Token indices sequence length is longer than the specified maximum sequence length for this model (3155 > 1024). Running this sequence through the model will result in indexing errors\n"
     ]
    },
    {
     "name": "stdout",
     "output_type": "stream",
     "text": [
      "{'input_documents': [Document(page_content='As I sit down to write my second annual shareholder letter as CEO, I find myself optimistic and \\nenergized by what lies ahead for Amazon. Despite 2022 being one of the harder macroeconomic \\nyears in recent memory, and with some of our own operating challenge s to boot, we still found a \\nway to grow demand (on top of the unprecedented growth we experienced in the first half of the \\npandemic). We innovated in our largest businesses to meaningfully improve customer experience \\nshort and long term. And, we made impor tant adjustments in our investment decisions and the way \\nin which we’ll invent moving forward, while still preserving the long -term investments that we \\nbelieve can change the future of Amazon for customers, shareholders, and employees.  \\n \\nWhile there were an unusual number of simultaneous challenges this past year, the reality is that if \\nyou operate in large, dynamic, global market segments with many capable and well -funded', metadata={'source': './data/letter.pdf', 'page': 0}), Document(page_content='you operate in large, dynamic, global market segments with many capable and well -funded \\ncompetitors (the conditions in which Amazon operates all of its bus inesses), conditions rarely stay \\nstagnant for long.  \\n \\nIn the 25 years I’ve been at Amazon, there has been constant change, much of which we’ve initiated \\nourselves. When I joined Amazon in 1997, we had booked $15M in revenue in 1996, were a books -\\nonly retailer, did not have a third -party marketplace, and only shipped to addresses in the US. \\nToday, Amazon sells nearly every physical and digital retail item you can imagine, with a vibrant \\nthird-party seller ecosystem that accounts for 60% of our unit sales, and reaches customers in \\nvirtually every country around the world. Similarly, building a business around a set of technology \\ninfrastructure services in the cloud was not obvious in 2003 when we started pursuing AWS, and \\nstill wasn’t when we launched our first services in 2006. Having virtually every book at you r', metadata={'source': './data/letter.pdf', 'page': 0}), Document(page_content='still wasn’t when we launched our first services in 2006. Having virtually every book at you r \\nfingertips in 60 seconds, and then being able to store and retrieve them on a lightweight digital \\nreader was not “a thing” yet when we launched Kindle in 2007, nor was a voice -driven personal \\nassistant like Alexa (launched in 2014) that you could use to access entertainment, control your \\nsmart home, shop, and retrieve all sorts of information.  \\n \\nThere have also been times when macroeconomic conditions or operating inefficiencies have \\npresented us with new challenges. For instance, in the 2001 dot -com crash, we had to secure \\nletters of credit to buy inventory for the holidays, streamline costs to d eliver better profitability for \\nthe business, yet still prioritized the long -term customer experience and business we were trying to \\nbuild (if you remember, we actually lowered prices in most of our categories during that tenuous', metadata={'source': './data/letter.pdf', 'page': 0}), Document(page_content='build (if you remember, we actually lowered prices in most of our categories during that tenuous \\n2001 period). You saw this  sort of balancing again in 2008 -2009 as we endured the recession \\nprovoked by the mortgage -backed securities financial crisis. We took several actions to manage the \\ncost structure and efficiency of our Stores business, but we also balanced this streamlinin g with \\ninvestment in customer experiences that we believed could be substantial future businesses with \\nstrong returns for shareholders. In 2008, AWS was still a fairly small, fledgling business. We knew \\nwe were on to something, but it still required substa ntial capital investment. There were voices \\ninside and outside of the company questioning why Amazon (known mostly as an online retailer \\nthen) would be investing so much in cloud computing. But, we knew we were inventing something \\nspecial that could create  a lot of value for customers and Amazon in the future. We had a head start', metadata={'source': './data/letter.pdf', 'page': 0}), Document(page_content='on potential competitors; and if anything, we wanted to accelerate our pace of innovation. We \\nmade the long -term decision to continue investing in AWS. Fifteen years later, AWS is now an $85B \\nannual revenue run rate business, with strong profitability, tha t has transformed how customers \\nfrom start -ups to multinational companies to public sector organizations manage their technology \\ninfrastructure. Amazon would be a different company if we’d slowed investment in AWS during that \\n2008-2009 period.  \\n \\nChange is always around the corner. Sometimes, you proactively invite it in, and sometimes it just \\ncomes a-knocking. But, when you see it’s coming, you have to embrace it. And, the companies that \\ndo this well over a long period of time usually succeed. I’m  optimistic about our future prospects \\nbecause I like the way our team is responding to the changes we see in front of us.  \\n \\nOver the last several months, we took a deep look across the company, business by business,', metadata={'source': './data/letter.pdf', 'page': 1}), Document(page_content='Over the last several months, we took a deep look across the company, business by business, \\ninvention by invention, and asked ourselves whether we had conviction about each initiative’s long -\\nterm potential to drive enough revenue, operating income, free ca sh flow, and return on invested \\ncapital. In some cases, it led to us shuttering certain businesses. For instance, we stopped \\npursuing physical store concepts like our Bookstores and 4 Star stores, closed our Amazon Fabric \\nand Amazon Care efforts, and moved  on from some newer devices where we didn’t see a path to \\nmeaningful returns. In other cases, we looked at some programs that weren’t producing the returns \\nwe’d hoped (e.g. free shipping for all online grocery orders over $35) and amended them. We also \\nreprioritized where to spend our resources, which ultimately led to the hard decision to eliminate \\n27,000 corporate roles. There are a number of other changes that we’ve made over the last several', metadata={'source': './data/letter.pdf', 'page': 1}), Document(page_content='27,000 corporate roles. There are a number of other changes that we’ve made over the last several \\nmonths to streamline our overall costs, and like most leadersh ip teams, we’ll continue to evaluate \\nwhat we’re seeing in our business and proceed adaptively.  \\n \\nWe also looked hard at how we were working together as a team and asked our corporate \\nemployees to come back to the office at least three days a week, beginning in May. During the \\npandemic, our employees rallied to get work done from home and did everythin g possible to keep \\nup with the unexpected circumstances that presented themselves. It was impressive and I’m proud \\nof the way our collective team came together to overcome unprecedented challenges for our \\ncustomers, communities, and business. But, we don’t  think it’s the best long -term approach. We’ve \\nbecome convinced that collaborating and inventing is easier and more effective when we’re', metadata={'source': './data/letter.pdf', 'page': 1}), Document(page_content='become convinced that collaborating and inventing is easier and more effective when we’re \\nworking together and learning from one another in person. The energy and riffing on one another’s \\nideas happen more fre ely, and many of the best Amazon inventions have had their breakthrough \\nmoments from people staying behind after a meeting and working through ideas on a whiteboard, \\nor continuing the conversation on the walk back from a meeting, or just popping by a teamm ate’s \\noffice later that day with another thought. Invention is often messy. It wanders and meanders and \\nmarinates. Serendipitous interactions help it, and there are more of those in -person than virtually. \\nIt’s also significantly easier to learn, model, pra ctice, and strengthen our culture when we’re in the \\noffice together most of the time and surrounded by our colleagues. Innovation and our unique', metadata={'source': './data/letter.pdf', 'page': 1}), Document(page_content='culture have been incredibly important in our first 29 years as a company, and I expect it will be \\ncomparably so in the next 29.  \\n \\nA critical challenge we’ve continued to tackle is the rising cost to serve in our Stores fulfillment \\nnetwork (i.e. the cost to get a product from Amazon to a customer) —and we’ve made several \\nchanges that we believe will meaningfully improve our fulfillment  costs and speed of delivery.  \\n \\nDuring the early part of the pandemic, with many physical stores shut down, our consumer \\nbusiness grew at an extraordinary clip, with annual revenue increasing from $245B in 2019 to $434B \\nin 2022. This meant that we had to double the fulfillment center foo tprint that we’d built over the \\nprior 25 years and substantially accelerate building a last -mile transportation network that’s now \\nthe size of UPS (along with a new sortation center network to assist with efficiency and speed when', metadata={'source': './data/letter.pdf', 'page': 2}), Document(page_content='items needed to traverse long distances) —all in the span of about two years. This was no easy feat, \\nand hundreds of thousands of Amazonians worked very hard to make this happen. However, not \\nsurprisingly, with that rate and scale of change, there was a lot of optimization needed t o yield the \\nintended productivity. Over the last several months, we’ve scrutinized every process path in our \\nfulfillment centers and transportation network and redesigned scores of processes and \\nmechanisms, resulting in steady productivity gains and cost r eductions over the last few quarters. \\nThere’s more work to do, but we’re pleased with our trajectory and the meaningful upside in front of \\nus. \\n \\nWe also took this occasion to make larger structural changes that set us up better to deliver lower \\ncosts and faster speed for many years to come. A good example was reevaluating how our US \\nfulfillment network was organized. Until recently, Amazon operated  one national US fulfillment', metadata={'source': './data/letter.pdf', 'page': 2}), Document(page_content='fulfillment network was organized. Until recently, Amazon operated  one national US fulfillment \\nnetwork that distributed inventory from fulfillment centers spread across the entire country. If a \\nlocal fulfillment center didn’t have the product a customer ordered, we’d end up shipping it from \\nother parts of the country, co sting us more and increasing delivery times. This challenge became \\nmore pronounced as our fulfillment network expanded to hundreds of additional nodes over the \\nlast few years, distributing inventory across more locations and increasing the complexity of \\nconnecting the fulfillment center and delivery station nodes efficiently. Last year, we started \\nrearchitecting our inventory placement strategy and leveraging our larger fulfillment center footprint \\nto move from a national fulfillment network to a regionaliz ed network model. We made significant \\ninternal changes (e.g. placement and logistics software, processes, physical operations) to create', metadata={'source': './data/letter.pdf', 'page': 2}), Document(page_content='internal changes (e.g. placement and logistics software, processes, physical operations) to create \\neight interconnected regions in smaller geographic areas. Each of these regions has broad, relevant \\nselection to operat e in a largely self -sufficient way, while still being able to ship nationally when \\nnecessary. Some of the most meaningful and hard work came from optimizing the connections \\nbetween this large amount of infrastructure. We also continue to improve our advanc ed machine \\nlearning algorithms to better predict what customers in various parts of the country will need so \\nthat we have the right inventory in the right regions at the right time. We’ve recently completed this \\nregional roll out and like the early results . Shorter travel distances mean lower cost to serve, less \\nimpact on the environment, and customers getting their orders faster. On the latter, we’re excited', metadata={'source': './data/letter.pdf', 'page': 2}), Document(page_content='about seeing more next day and same -day deliveries, and we’re on track to have our fastest Prime \\ndelivery speeds ever in 2023. Overall, we remain confident about our plans to lower costs, reduce \\ndelivery times, and build a meaningfully larger retail busine ss with healthy operating margins.  \\n \\nAWS has an $85B annualized revenue run rate, is still early in its adoption curve, but at a juncture \\nwhere it’s critical to stay focused on what matters most to customers over the long -haul. Despite \\ngrowing 29% year -over-year (“YoY”) in 2022 on a $62B reve nue base, AWS faces short -term \\nheadwinds right now as companies are being more cautious in spending given the challenging, \\ncurrent macroeconomic conditions. While some companies might obsess over how they could \\nextract as much money from customers as possi ble in these tight times, it’s neither what \\ncustomers want nor best for customers in the long term, so we’re taking a different tack. One of the', metadata={'source': './data/letter.pdf', 'page': 3}), Document(page_content='many advantages of AWS and cloud computing is that when your business grows, you can \\nseamlessly scale up; and c onversely, if your business contracts, you can choose to give us back \\nthat capacity and cease paying for it. This elasticity is unique to the cloud, and doesn’t exist when \\nyou’ve already made expensive capital investments in your own on -premises datacenter s, servers, \\nand networking gear. In AWS, like all our businesses, we’re not trying to optimize for any one quarter \\nor year. We’re trying to build customer relationships (and a business) that outlast all of us; and as a \\nresult, our AWS sales and support tea ms are spending much of their time helping customers \\noptimize their AWS spend so they can better weather this uncertain economy. Many of these AWS \\ncustomers tell us that they’re not cost -cutting as much as cost -optimizing so they can take their \\nresources a nd apply them to emerging and inventive new customer experiences they’re planning.', metadata={'source': './data/letter.pdf', 'page': 3}), Document(page_content='resources a nd apply them to emerging and inventive new customer experiences they’re planning. \\nCustomers have appreciated this customer -focused, long -term approach, and we think it’ll bode \\nwell for both customers and AWS.  \\n \\nWhile these short -term headwinds soften our growth rate, we like a lot of the fundamentals that \\nwe’re seeing in AWS. Our new customer pipeline is robust, as are our active migrations. Many \\ncompanies use discontinuous periods like this to step back and dete rmine what they strategically \\nwant to change, and we find an increasing number of enterprises opting out of managing their own \\ninfrastructure, and preferring to move to AWS to enjoy the agility, innovation, cost -efficiency, and \\nsecurity benefits. And most importantly for customers, AWS continues to deliver new capabilities \\nrapidly (over 3,300 new features and services launched in 2022), and invest in long -term inventions \\nthat change what’s possible.', metadata={'source': './data/letter.pdf', 'page': 3}), Document(page_content='that change what’s possible.  \\n \\nChip development is a good example. In last year’s letter, I mentioned the investment we were \\nmaking in our general -purpose CPU processors named Graviton. Graviton2 -based compute \\ninstances deliver up to 40% better price -performance than the comparable late st generation x86 -\\nbased instances; and in 2022, we delivered our Graviton3 chips, providing 25% better performance \\nthan the Graviton2 processors. Further, as machine learning adoption has continued to accelerate, \\ncustomers have yearned for lower -cost GPUs (the chips most commonly used for machine \\nlearning). AWS started investing years ago in these specialized chips for machine learning training \\nand inference (inferences are the predictions or answers that a machine learning model provides).', metadata={'source': './data/letter.pdf', 'page': 3}), Document(page_content='We delivered our first training chip in 2022 (“Trainium”); and for the most common machine \\nlearning models, Trainium -based instances are up to 140% faster than GPU -based instances at up \\nto 70% lower cost. Most companies are still in the training stage, but  as they develop models that \\ngraduate to large -scale production, they’ll find that most of the cost is in inference because models \\nare trained periodically whereas inferences are happening all the time as their associated \\napplication is being exercised. We  launched our first inference chips (“Inferentia”) in 2019, and they \\nhave saved companies like Amazon over a hundred million dollars in capital expense already. Our \\nInferentia2 chip, which just launched, offers up to four times higher throughput and ten ti mes lower \\nlatency than our first Inferentia processor. With the enormous upcoming growth in machine \\nlearning, customers will be able to get a lot more done with AWS’s training and inference chips at a', metadata={'source': './data/letter.pdf', 'page': 4}), Document(page_content='significantly lower cost. We’re not close to being done  innovating here, and this long -term \\ninvestment should prove fruitful for both customers and AWS. AWS is still in the early stages of its \\nevolution, and has a chance for unusual growth in the next decade.  \\n \\nSimilarly high potential, Amazon’s Advertising business is uniquely effective for brands, which is \\npart of why it continues to grow at a brisk clip. Akin to physical retailers’ advertising businesses \\nselling shelf space, end -caps, and placement in their ci rculars, our sponsored products and brands \\nofferings have been an integral part of the Amazon shopping experience for more than a decade. \\nHowever, unlike physical retailers, Amazon can tailor these sponsored products to be relevant to \\nwhat customers are se arching for given what we know about shopping behaviors and our very deep \\ninvestment in machine learning algorithms. This leads to advertising that’s more useful for', metadata={'source': './data/letter.pdf', 'page': 4}), Document(page_content='investment in machine learning algorithms. This leads to advertising that’s more useful for \\ncustomers; and as a result, performs better for brands. This is part of why our Advertisin g revenue \\nhas continued to grow rapidly (23% YoY in Q4 2022, 25% YoY overall for 2022 on a $31B revenue \\nbase), even as most large advertising -focused businesses’ growth have slowed over the last several \\nquarters.  \\n \\nWe strive to be the best place for advertisers to build their brands. We have near and long -term \\nopportunities that will help us achieve that mission. We’re continuing to make large investments in \\nmachine learning to keep honing our advertising selection a lgorithms. For the past couple of years, \\nwe’ve invested in building comprehensive, flexible, and durable planning and measurement \\nsolutions, giving marketers greater insight into advertising effectiveness. An example is Amazon \\nMarketing Cloud (“AMC”). AMC is a “clean room” (i.e. secure digital environment) in which', metadata={'source': './data/letter.pdf', 'page': 4}), Document(page_content='Marketing Cloud (“AMC”). AMC is a “clean room” (i.e. secure digital environment) in which \\nadvertisers can run custom audience and campaign analytics across a range of first and third -party \\ninputs, in a privacy -safe manner, to generate advertising and business insights to inform their \\nbroader marketing and sales strategies. The Advertising and AWS teams have collaborated to \\nenable companies to store their data in AWS, operate securely in AMC with Amazon and other third -\\nparty data sources, perform analytics in AWS, and have the option to  activate advertising on \\nAmazon or third -party publishers through the Amazon Demand -Side Platform. Customers really like \\nthis concerted capability. We also see future opportunity to thoughtfully integrate advertising into \\nour video, live sports, audio, and  grocery products. We’ll continue to work hard to help brands \\nuniquely engage with the right audience, and grow this part of our business.', metadata={'source': './data/letter.pdf', 'page': 4}), Document(page_content='While it’s tempting in turbulent times only to focus on your existing large businesses, to build a \\nsustainable, long -lasting, growing company that helps customers across a large number of \\ndimensions, you can’t stop inventing and working on long -term custom er experiences that can \\nmeaningfully impact customers and your company.  \\n \\nWhen we look at new investment opportunities, we ask ourselves a few questions:  \\n \\nIf we were successful, could it be big and have a reasonable return on invested capital?  \\nIs the opportunity being well -served today?  \\nDo we have a differentiated approach?  \\nAnd, do we have competence in that area? And if not, can we acquire it quickly?  \\nIf we like the answers to those questions, then we’ll invest. This process has led to some \\nexpansions that seem straightforward, and others that some folks might not have initially guessed.  \\n \\nThe earliest example is when we chose to expand from just selling Books, to adding categories like', metadata={'source': './data/letter.pdf', 'page': 5}), Document(page_content='The earliest example is when we chose to expand from just selling Books, to adding categories like \\nMusic, Video, Electronics, and Toys. Back then (1998 -1999), it wasn’t universally applauded, but in \\nretrospect, it seems fairly obvious.  \\n \\nThe same could be said for our international Stores expansion. In 2022, our international consumer \\nsegment drove $118B of revenue. In our larger, established international consumer businesses, \\nwe’re big enough to be impacted by the slowing macroeconomic co nditions; however, the growth in \\n2019-2021 on a large base was remarkable —30% compound annual growth rate (“CAGR”) in the \\nUK, 26% in Germany, and 21% in Japan (excluding the impact of FX). Over the past several years, \\nwe’ve invested in new international ge ographies, including India, Brazil, Mexico, Australia, various \\nEuropean countries, the Middle East, and parts of Africa. These new countries take a certain', metadata={'source': './data/letter.pdf', 'page': 5}), Document(page_content='European countries, the Middle East, and parts of Africa. These new countries take a certain \\namount of fixed investment to get started and to scale, but we like the trajectory they’re on, and \\ntheir growth patterns resemble what we’ve seen in North America and our established international \\ngeographies. Emerging countries sometimes lack some of the infrastructure and services that our \\nbusiness relies on (e.g. payment methods, transportation servic es, and internet/telecom \\ninfrastructure). To solve these challenges, we continue to work with various partners to deliver \\nsolutions for customers. Ultimately, we believe that this investment in serving a broader \\ngeographical footprint will allow us to help  more customers across the world, as well as build a \\nlarger free cash flow -generating consumer business.  \\n \\nBeyond geographic expansion, we’ve been working to expand our customer offerings across some', metadata={'source': './data/letter.pdf', 'page': 5}), Document(page_content='Beyond geographic expansion, we’ve been working to expand our customer offerings across some \\nlarge, unique product retail market segments. Grocery is an $800B market segment in the US alone, \\nwith the average household shopping three to four times per week.  Amazon has built a somewhat', metadata={'source': './data/letter.pdf', 'page': 5}), Document(page_content='unusual, but significant grocery business over nearly 20 years. Similar to how other mass \\nmerchants entered the grocery space in the 1980s, we began by adding products typically found in \\nsupermarket aisles that don’t require temperature control such as pap er products, canned and \\nboxed food, candy and snacks, pet care, health and personal care, and beauty. However, we offer \\nmore than three million items compared to a typical supermarket’s 30K for the same categories. To \\ndate, we’ve also focused on larger pac k sizes, given the current cost to serve online delivery. While \\nwe’re pleased with the size and growth of our grocery business, we aspire to serve more of our \\ncustomers’ grocery needs than we do today. To do so, we need a broader physical store footprint \\ngiven that most of the grocery shopping still happens in physical venues. Whole Foods Market \\npioneered the natural and organic specialty grocery store concept 40 years ago. Today, it’s a large', metadata={'source': './data/letter.pdf', 'page': 6}), Document(page_content='and growing business that continues to raise the bar for healthy  and sustainable food. Over the past \\nyear, we’ve continued to invest in the business while also making changes to drive better \\nprofitability. Whole Foods is on an encouraging path, but to have a larger impact on physical \\ngrocery, we must find a mass grocer y format that we believe is worth expanding broadly. Amazon \\nFresh is the brand we’ve been experimenting with for a few years, and we’re working hard to identify \\nand build the right mass grocery format for Amazon scale. Grocery is a big growth opportunity f or \\nAmazon.  \\n \\nAmazon Business is another example of an investment where our ecommerce and logistics \\ncapabilities position us well to pursue this large market segment. Amazon Business allows \\nbusinesses, municipalities, and organizations to procure products like office su pplies and other \\nbulk items easily and at great savings. While some areas of the economy have struggled over the', metadata={'source': './data/letter.pdf', 'page': 6}), Document(page_content='bulk items easily and at great savings. While some areas of the economy have struggled over the \\npast few years, Amazon Business has thrived. Why? Because the team has translated what it \\nmeans to deliver selection, value, and convenience in to a business procurement setting, \\nconstantly listening to and learning from customers, and innovating on their behalf. Some people \\nhave never heard of Amazon Business, but, our business customers love it. Amazon Business \\nlaunched in 2015 and today drives roughly $35B in annualized gross sales. More than six million \\nactive customers, including 96 of the global Fortune 100 companies, are enjoying Amazon \\nBusiness’ one -stop shopping, real -time analytics, and broad selection on hundreds of millions of \\nbusiness supplies. We believe that we’ve only scratched the surface of what’s possible to date, and \\nplan to keep building the features our business customers tell us they need and want.', metadata={'source': './data/letter.pdf', 'page': 6}), Document(page_content='plan to keep building the features our business customers tell us they need and want.  \\n \\nWhile many brands and merchants successfully sell their products on Amazon’s marketplace, \\nthere are also a large number of brands and sellers who have launched their own direct -to-\\nconsumer websites. One of the challenges for these merchants is driving conv ersion from views to \\npurchases. We invented Buy with Prime to help with this challenge. Buy with Prime allows third -\\nparty brands and sellers to offer their products on their own websites to our large Amazon Prime \\nmembership, and offer those customers fast,  free Prime shipping and seamless checkout with their \\nAmazon account. Buy with Prime provides merchants several additional benefits, including \\nAmazon handling the product storage, picking, packing, delivery, payment, and any returns, all \\nthrough Amazon Pay  and Fulfillment by Amazon. Buy with Prime has recently been made available', metadata={'source': './data/letter.pdf', 'page': 6}), Document(page_content='through Amazon Pay  and Fulfillment by Amazon. Buy with Prime has recently been made available \\nto all US merchants; and so far, Buy with Prime has increased shopper conversion on third -party', metadata={'source': './data/letter.pdf', 'page': 6}), Document(page_content='shopping sites by 25% on average. Merchants are excited about converting more sales and fulfilling \\nthese shipments more easily, Prime members love that they can use their Prime benefits on more \\ndestinations, and Buy with Prime allows us to improve the shop ping experience across more of the \\nweb.  \\n \\nExpanding internationally, pursuing large retail market segments that are still nascent for Amazon, \\nand using our unique assets to help merchants sell more effectively on their own websites are \\nsomewhat natural extensions for us. There are also a few inves tments we’re making that are further \\nfrom our core businesses, but where we see unique opportunity. In 2003, AWS would have been a \\nclassic example. In 2023, Amazon Healthcare and Kuiper are potential analogues.  \\n \\nOur initial efforts in Healthcare began with pharmacy, which felt less like a major departure from \\necommerce. For years, Amazon customers had asked us when we’d offer them an online pharmacy', metadata={'source': './data/letter.pdf', 'page': 7}), Document(page_content='ecommerce. For years, Amazon customers had asked us when we’d offer them an online pharmacy \\nas their frustrations mounted with current providers. Launched in  2020, Amazon Pharmacy is a full -\\nservice, online pharmacy that offers transparent pricing, easy refills, and savings for Prime \\nmembers. The business is growing quickly, and continues to innovate. An example is Amazon \\nPharmacy’s recent launch of RxPass, whi ch for a $5 per month flat fee, enables Prime members to \\nget as many of the eligible prescription medications as they need for dozens of common \\nconditions, like high blood pressure, acid reflux, and anxiety. However, our customers have \\ncontinued to express  a strong desire for Amazon to provide a better alternative to the inefficient and \\nunsatisfying broader healthcare experience. We decided to start with primary care as it’s a \\nprevalent first stop in the patient journey. We evaluated and studied the existin g landscape', metadata={'source': './data/letter.pdf', 'page': 7}), Document(page_content='prevalent first stop in the patient journey. We evaluated and studied the existin g landscape \\nextensively, including some early Amazon experiments like Amazon Care. During this process, we \\nidentified One Medical’s patient -focused experience as an excellent foundation upon which to \\nbuild our future business; and in July 2022, we announce d our acquisition of One Medical. There \\nare several elements that customers love about One Medical. It has a fantastic digital app that \\nmakes it easy for patients to discuss issues with a medical practitioner via chat or video \\nconference. If a physical vis it is required, One Medical has offices in cities across the US where \\npatients can book same or next day appointments. One Medical has relationships with specialty \\nphysicians in each of its cities and works closely with local hospital systems to make seein g \\nspecialists easy, so One Medical members can quickly access these resources when needed.', metadata={'source': './data/letter.pdf', 'page': 7}), Document(page_content='specialists easy, so One Medical members can quickly access these resources when needed. \\nGoing forward, we strongly believe that One Medical and Amazon will continue to innovate together \\nto change what primary care will look like for customers.  \\n \\nKuiper is another example of Amazon innovating for customers over the long term in an area where \\nthere’s high customer need. Our vision for Kuiper is to create a low -Earth orbit satellite system to \\ndeliver high -quality broadband internet service to places around the world that don’t currently have \\nit. There are hundreds of millions of households and businesses who don’t have reliable access to \\nthe internet. Imagine what they’ll be able to do with reliable connectivity, from people taking online \\neducation co urses, using financial services, starting their own businesses, doing their shopping, \\nenjoying entertainment, to businesses and governments improving their coverage, efficiency, and', metadata={'source': './data/letter.pdf', 'page': 7}), Document(page_content='operations. Kuiper will deliver not only accessibility, but affordability. Our teams have developed \\nlow-cost antennas (i.e. customer terminals) that will lower the barriers to access. We recently \\nunveiled the new terminals that will communicate with the sa tellites passing overhead, and we \\nexpect to be able to produce our standard residential version for less than $400 each. They’re \\nsmall: 11 inches square, 1 inch thick, and weigh less than 5 pounds without their mounting bracket, \\nbut they deliver speeds up to 400 megabits per second. And they’re powered by Amazon -designed \\nbaseband chips. We’re preparing to launch two prototype satellites to test the entire end -to-end \\ncommunications network this year, and plan to be in beta with commercial customers in 2024. The \\ncustomer reaction to what we’ve shared thus far about Kuiper has been very positive, and we \\nbelieve Kuiper represents a very large potential opportunity for Amazon. It also shares several', metadata={'source': './data/letter.pdf', 'page': 8}), Document(page_content='believe Kuiper represents a very large potential opportunity for Amazon. It also shares several \\nsimilarities to AWS in that it’s capital intensive at the start,  but has a large prospective consumer, \\nenterprise, and government customer base, significant revenue and operating profit potential, and \\nrelatively few companies with the technical and inventive aptitude, as well as the investment \\nhypothesis to go after it . \\n \\nOne final investment area that I’ll mention, that’s core to setting Amazon up to invent in every area \\nof our business for many decades to come, and where we’re investing heavily is Large Language \\nModels (“LLMs”) and Generative AI. Machine learning has been  a technology with high promise for \\nseveral decades, but it’s only been the last five to ten years that it’s started to be used more \\npervasively by companies. This shift was driven by several factors, including access to higher', metadata={'source': './data/letter.pdf', 'page': 8}), Document(page_content='pervasively by companies. This shift was driven by several factors, including access to higher \\nvolumes of compute capacity at lower prices than was ever available. Amazon has been using \\nmachine learning extensively for 25 years, employing it in everything from personalized ecommerce \\nrecommendations, to fulfillment center pick paths, to drones for Prime Air, to Alexa, to the ma ny \\nmachine learning services AWS offers (where AWS has the broadest machine learning functionality \\nand customer base of any cloud provider). More recently, a newer form of machine learning, called \\nGenerative AI, has burst onto the scene and promises to sig nificantly accelerate machine learning \\nadoption. Generative AI is based on very Large Language Models (trained on up to hundreds of \\nbillions of parameters, and growing), across expansive datasets, and has radically general and \\nbroad recall and learning cap abilities. We have been working on our own LLMs for a while now,', metadata={'source': './data/letter.pdf', 'page': 8}), Document(page_content='broad recall and learning cap abilities. We have been working on our own LLMs for a while now, \\nbelieve it will transform and improve virtually every customer experience, and will continue to invest \\nsubstantially in these models across all of our consumer, seller, brand, and creator exp eriences. \\nAdditionally, as we’ve done for years in AWS, we’re democratizing this technology so companies of \\nall sizes can leverage Generative AI. AWS is offering the most price -performant machine learning \\nchips in Trainium and Inferentia so small and large  companies can afford to train and run their LLMs \\nin production. We enable companies to choose from various LLMs and build applications with all of \\nthe AWS security, privacy and other features that customers are accustomed to using. And, we’re \\ndelivering a pplications like AWS’s CodeWhisperer, which revolutionizes developer productivity by \\ngenerating code suggestions in real time. I could write an entire letter on LLMs and Generative AI as', metadata={'source': './data/letter.pdf', 'page': 8}), Document(page_content='I think they will be that transformative, but I’ll leave that for a f uture letter. Let’s just say that LLMs \\nand Generative AI are going to be a big deal for customers, our shareholders, and Amazon.', metadata={'source': './data/letter.pdf', 'page': 8}), Document(page_content='So, in closing, I’m optimistic that we’ll emerge from this challenging macroeconomic time in a \\nstronger position than when we entered it. There are several reasons for it and I’ve mentioned many \\nof them above. But, there are two relatively simple statistic s that underline our immense future \\nopportunity. While we have a consumer business that’s $434B in 2022, the vast majority of total \\nmarket segment share in global retail still resides in physical stores (roughly 80%). And, it’s a similar \\nstory for Global I T spending, where we have AWS revenue of $80B in 2022, with about 90% of Global \\nIT spending still on -premises and yet to migrate to the cloud. As these equations steadily flip —as \\nwe’re already seeing happen —we believe our leading customer experiences, rele ntless invention, \\ncustomer focus, and hard work will result in significant growth in the coming years. And, of course, \\nthis doesn’t include the other businesses and experiences we’re pursuing at Amazon, all of which', metadata={'source': './data/letter.pdf', 'page': 9}), Document(page_content='this doesn’t include the other businesses and experiences we’re pursuing at Amazon, all of which \\nare still in their early days.  \\n \\nI strongly believe that our best days are in front of us, and I look forward to working with my \\nteammates at Amazon to make it so.', metadata={'source': './data/letter.pdf', 'page': 9})], 'output_text': \"• Despite a challenging macroeconomic environment and operational difficulties in 2022, Amazon's CEO remains enthusiastic and motivated by the company's future.\\n• The company has increased demand, improved customer experiences, and made strategic investment decisions while preserving long-term investments.\\n• Amazon has been in business for 25 years and has seen constant change, from a books-only retailer in 1997 to a global retailer selling nearly every physical and digital retail item.\\n• The company's success is attributed to its technology infrastructure services in the cloud, including AWS, Kindle, and Alexa.\\n• In 2008-2009, Amazon invested in AWS despite doubts from investors, and it has since grown to become a $85B annual revenue run rate business with strong profitability.\\n• The company has reviewed its initiatives and made difficult decisions to shut down certain businesses, amend programs, and eliminate 27,000 corporate roles to ensure long-term potential and drive revenue, operating income, free cash flow, and return on invested capital.\\n• Amazon has made significant progress in improving its fulfillment centers and transportation network over the past two years, resulting in steady productivity gains and cost reductions.\\n• The company has reorganized its fulfillment network in the US to improve efficiency and reduce delivery times, creating eight interconnected regions in smaller geographic areas.\\n• AWS has an $85B annualized revenue run rate, is still early in its adoption curve, but faces short-term headwinds due to companies being more cautious in spending.\\n• AWS is focusing on what matters most to customers over the long term, offering more next-day and same-day deliveries, reducing costs and delivery times, and investing in general-purpose CPU processors named Graviton.\\n• Amazon Titan is a family of machine learning (ML) chips designed to accelerate the training and inference of ML models.\\n• Amazon's Advertising business is uniquely effective for brands, offering tailored sponsored products and brands offerings that are more useful for customers.\\n• Investing in machine learning algorithms improves advertising effectiveness, leading to more useful ads and better brand performance.\\n• Amazon has expanded its business from selling books to music, video, electronics, and toys, with its international consumer segment driving $118B of revenue in 2022.\\n• Starbucks is expanding its business in emerging countries by investing in infrastructure and services to meet the needs of customers.\\n• Amazon has expanded its customer offerings across large, unique product retail market segments, such as grocery, which is an $800B market segment in the US with the average household shopping three to four times per week.\\n• Whole Foods Market is a growing business that is investing in order to drive better profitability.\\n• Amazon Business is an investment that allows businesses, municipalities, and organizations to procure products like office supplies and other bulk items easily and at great savings.\\n• Amazon invented Buy with Prime to help third-party brands and sellers offer their products on their own websites to Amazon Prime members, offering fast, free Prime shipping and seamless checkout.\\n• Amazon has expanded its business by offering shopping sites, pursuing large retail market segments, and using its unique assets to help merchants sell more effectively.\\n• Amazon Pharmacy is a full-service, online pharmacy that offers transparent pricing, easy refills, and savings for Prime members.\\n• One Medical's patient-focused experience and digital app make it an excellent foundation for Amazon's future business.\\n• Kuiper, an Amazon initiative, aims to create a low-Earth orbit satellite system to deliver high-quality broadband internet service to places around the world without it.\\n• Kuiper is a potential opportunity for Amazon, similar to AWS, with a large prospective consumer, enterprise, and government customer base, significant revenue and operating profit potential, and few companies with the technical and inventive aptitude to go after it.\\n• Amazon is investing heavily in Large Language Models (LLMs) and Generative AI, which has high promise for many decades but has only been used more pervasively in the last five to ten years.\\n• LLMs and Generative AI are going to be a big deal for customers, shareholders, and Amazon.\\n\\nTITLE: Amazon's CEO Optimistic About the Company's Future Despite Challenges\\n\\nINTRODUCTION:\\nIn 2022, Amazon faced a challenging macroeconomic environment and operational difficulties, but its CEO, Jeff Bezos, remains optimistic about the company's future. Despite these challenges, Amazon has increased demand, improved customer experiences, and made strategic investment decisions to ensure long-term potential. This article will provide an overview of Amazon's key achievements, challenges, and opportunities in 2022 and beyond.\\n\\nKEY POINTS:\\n• Amazon has increased demand and improved customer experiences.\\n• The company has diversified its business from selling books to music, video, electronics, and toys.\\n• Amazon has invested in technology infrastructure services, including AWS, Kindle, and Alexa.\\n• AWS has become a $85B annual revenue run rate business with strong profitability.\\n• Amazon has made difficult decisions to shut down certain businesses and eliminate 27,000 corporate roles to ensure long-term potential.\\n• Amazon has improved its fulfillment centers and transportation network, resulting in steady productivity gains and cost reductions.\\n• AWS is focusing on customer needs over the long term, offering more next-day and same-day deliveries, reducing costs and delivery times, and investing in general-purpose CPU processors.\\n• Amazon Titan is a family of machine learning (ML) chips designed to accelerate the training and inference of ML models.\\n• Amazon's Advertising business is uniquely effective for brands, offering tailored sponsored products and brands offerings.\\n• Investing in machine learning algorithms improves advertising effectiveness, leading to more useful ads and better brand performance.\\n• Amazon has expanded its business into large, unique product retail market segments, such as grocery.\\n• Whole Foods Market is a growing business that is investing in order to drive better profitability.\\n• Amazon Business is an investment that allows businesses, municipalities, and organizations to procure products easily and at great savings.\\n• Amazon invented Buy with Prime to help third-party brands and sellers offer their products on their own websites to Amazon Prime members.\\n• Amazon has expanded its business by offering shopping sites, pursuing large retail market segments, and using its unique assets to help merchants sell more effectively.\\n• Amazon Pharmacy is a full-service, online pharmacy that offers transparent pricing, easy refills, and savings for Prime members.\\n• One Medical's patient-focused experience and digital app make it an excellent foundation for Amazon's future business.\\n• Kuiper, an Amazon initiative, aims to create a low-Earth orbit satellite system to deliver high-quality broadband internet service to places around the world without it.\\n• Kuiper is a potential opportunity for Amazon, similar to AWS, with a large prospective consumer, enterprise, and government customer base, significant revenue and operating profit potential, and few companies with the technical and inventive aptitude to go after it.\\n• Amazon is investing heavily in Large Language Models (LLMs) and Generative AI, which have high promise for many decades but have only been used more pervasively in the last five to ten years.\\n\\nCONCLUSION:\\nOverall, Amazon has had a successful year in 2022 despite facing challenges. The company's focus on customer needs, technology infrastructure services, and diversification into large product retail market segments have contributed to its growth and success. While there are still challenges ahead, Amazon's CEO remains optimistic about the company's future and looks forward to contributing to its success.\"}\n",
      "CPU times: user 1.04 s, sys: 320 ms, total: 1.36 s\n",
      "Wall time: 4min 47s\n"
     ]
    }
   ],
   "source": [
    "%%time\n",
    "print(summary_chain.invoke(docs))"
   ]
  },
  {
   "cell_type": "markdown",
   "metadata": {},
   "source": [
    "Title: Amazon Web Services (AWS) Investment in Large Language Models (LLMs) for Improved Customer Experiences and Generative AI Technology\n",
    "\n",
    "Introduction:\n",
    "Amazon Web Services (AWS) is investing heavily in large language models (LLMs) to enhance customer experiences, democratize access to generative AI technology for companies of all sizes, and offer various LLMs with AWS security and privacy features.\n",
    "\n",
    "Bullet Point Summary:\n",
    "\n",
    "1. AWS is investing in LLMs to improve customer experiences.\n",
    "2. The company aims to democratize access to generative AI technology for businesses of all sizes.\n",
    "3. AWS offers various LLMs with security and privacy features.\n",
    "4. The company's focus on LLMs is driven by the potential for significant impact on customers, shareholders, and Amazon in the future.\n",
    "5. AWS has a strong consumer business of $434B in 2022, but the majority of the market still resides in physical stores.\n",
    "6. Only 10% of global IT spending has migrated to the cloud, leaving significant room for growth as more businesses transition to the cloud.\n",
    "7. Amazon is optimistic about its future growth potential due to its focus on customer experiences, innovation, and hard work.\n",
    "8. The company has ongoing projects and experiences that are still in their early stages.\n",
    "9. AWS is confident that its best days are ahead.\n",
    "10. LLMs have the potential to revolutionize developer productivity with applications like CodeWhisperer, which generates code suggestions in real-time.\n",
    "11. AWS is committed to delivering innovative solutions that meet customer needs and drive growth for the company.\n",
    "12. The company's investment in LLMs reflects its commitment to staying ahead of the curve in terms of technology and customer expectations.\n",
    "13. AWS aims to provide customers with access to cutting-edge AI technology that is secure, reliable, and easy to use.\n",
    "14. The company's focus on generative AI technology has the potential to transform industries and create new opportunities for businesses of all sizes.\n",
    "15. AWS is well-positioned to capitalize on the growing demand for cloud computing and AI technology due to its strong brand, extensive customer base, and commitment to innovation.\n",
    "CPU times: user 2.26 s, sys: 1.2 s, total: 3.46 s"
   ]
  },
  {
   "cell_type": "markdown",
   "metadata": {},
   "source": [
    "Bedrock\n",
    "Token indices sequence length is longer than the specified maximum sequence length for this model (2129 > 1024). Running this sequence through the model will result in indexing errors\n",
    "\n",
    "Jeff Bezos, CEO of Amazon, discusses the company's decision to continue investing in AWS (Amazon Web Services) during a challenging period in 2008-2009. AWS has since become a significant part of Amazon's business, generating annual revenue of $85 billion and transforming how customers manage their technology infrastructure. Bezos emphasizes the importance of embracing change and adapting to new circumstances. Amazon has undergone a comprehensive review of its initiatives, shutting down some businesses and reevaluating others to ensure they have the potential to drive revenue, operating income, free cash flow, and return on invested capital. Despite the success of working from home during the pandemic, Bezos believes that collaborating and inventing is easier and more effective when teams are working together in person.\n",
    "\n",
    "Amazon has made significant changes to its fulfillment network to improve fulfillment costs and speed of delivery. During the pandemic, the consumer business grew at an extraordinary clip, doubling the fulfillment center footprint and accelerating building a last-mile transportation network. This has resulted in steady productivity gains and cost reductions over the last few quarters. Additionally, Amazon has made larger structural changes to set itself up better to deliver lower costs and faster speed for many years to come. These changes include reevaluating how its US fulfillment network was organized and leveraging its larger fulfillment center footprint to move from a national fulfillment network to a regionalized network model.\n",
    "\n",
    "AWS has an $85B annualized revenue run rate and is still early in its adoption curve, but faces short-term headwinds due to companies being more cautious in spending. However, AWS takes a different tack, focusing on building customer relationships and a business that outlasts all of us. Customers are not cost-cutting as much as cost-optimizing to take their resources and apply them to emerging and inventive new customer experiences. AWS's new customer pipeline is robust, and many companies are opting out of managing their infrastructure and preferring to move to AWS for agility, innovation, cost-efficiency, and security benefits. Chip development is a good example, with Graviton2-based compute instances delivering up to 40% better price-performance and Graviton3 chips providing 25% better performance than the Graviton2 processors. AWS has also invested in lower-cost GPUs for machine learning training and inference.\n",
    "\n",
    "Amazon Web Services (AWS) has made significant strides in the machine learning and inference markets. In 2022, they launched their first training chip, Trainium, which is up to 140% faster than GPU-based instances at up to 70% lower cost. They also launched their first inference chips, Inferentia, in 2019, which have saved companies like Amazon over a hundred million dollars in capital expense. Their Inferentia2 chip, which just launched, offers up to four times higher throughput and ten times lower latency than their first Inferentia processor.\n",
    "\n",
    "AWS is still in the early stages of its evolution and has a chance for unusual growth in the next decade. Amazon's Advertising business is uniquely effective for brands, as it can tailor sponsored products to be relevant to what customers are searching for. This leads to advertising that is more useful for customers and performs better for brands. Amazon Marketing Cloud (AMC) is a \"clean room\" (secure digital environment) in which advertisers can run custom audience and campaign analytics across a range of first and third-party inputs to generate advertising and business insights.\n",
    "\n",
    "AWS and the Advertising team have collaborated to enable companies to store their data in AWS, operate securely in AMC with Amazon and other third-party data sources, perform analytics in AWS, and activate advertising on Amazon or third-party publishers through the Amazon Demand-Side Platform. They see future opportunity to thoughtfully integrate advertising into their video, live sports, audio, and grocery products.\n",
    "\n",
    "Amazon has built a sustainable, long-lasting, growing company by inventing and working on long-term customer experiences. They have expanded from selling Books to adding categories like Music, Video, Electronics, and Toys, and their international Stores expansion drove $118B of revenue in 2022. They have invested in new international geographies, including India, Brazil, Mexico, Australia, various European countries, the Middle East, and parts of Africa, and have worked with partners to deliver solutions for customers. They believe that this investment in serving a broader geographical footprint will allow them to help more customers across the world and build a larger free cash flow-generating consumer business.\n",
    "\n",
    "Amazon has been in the grocery business for over 20 years, offering more than three million items and larger pack sizes. To serve more customers' grocery needs, they need a broader physical store footprint. Whole Foods Market is a large and growing business, and Amazon Fresh is the brand they've been experimenting with. Amazon Business is an investment that leverages ecommerce and logistics capabilities to pursue a large market segment. It has thrived by delivering selection, value, and convenience in a business procurement setting. Amazon Business launched in 2015 and drives $35B in annualized gross sales, with over six million active customers, including 96 of the global Fortune 100 companies.\n",
    "\n",
    "Buy with Prime was invented to help merchants drive conversion from views to purchases. It allows third-party brands and sellers to offer their products on their own websites to Amazon Prime members, offering fast, free Prime shipping and seamless checkout. It has recently been made available to all US merchants, increasing shopper conversion on third-party websites.\n",
    "\n",
    "Amazon has expanded its business by offering shopping sites, pursuing large retail market segments, and using unique assets to help merchants sell more effectively. In 2003, AWS was a classic example of this, while Amazon Healthcare and Kuiper are potential analogues. Amazon Pharmacy is a full-service, online pharmacy that offers transparent pricing, easy refills, and savings for Prime members. However, customers have expressed a strong desire for Amazon to provide a better alternative to the broader healthcare experience. In July 2022, Amazon announced its acquisition of One Medical, a patient-focused experience with a digital app and offices in cities across the US. Kuiper is another example of Amazon innovating for customers in an area with high customer need, creating a low-Earth orbit satellite system to deliver high-quality broadband internet service to places around the world.\n",
    "\n",
    "Amazon's Jeff Bezos discussed the company's future plans during his annual letter to shareholders. He highlighted the importance of AWS, Amazon's cloud computing platform, as a key driver of growth and innovation. Bezos also discussed the company's investment in new technologies, such as artificial intelligence (AI), machine learning, and the Internet of Things (IoT).\n",
    "\n",
    "One of the key areas of investment for Amazon is in AI and machine learning. The company has been developing its own AI technology, including large language models (LLMs), for several years. LLMs are trained on large datasets and can generate human-like text and images. Amazon believes that LLMs will transform various industries, such as healthcare, finance, and customer service.\n",
    "\n",
    "The company is also investing in machine learning chips, which are designed to accelerate the processing of AI tasks. These chips are being used in Amazon's AWS cloud infrastructure and are also being sold to other companies.\n",
    "\n",
    "Another area of investment for Amazon is in the IoT. The company has been developing a range of IoT products, such as smart speakers, security cameras, and home automation systems. These products are designed to connect people's homes and devices to the internet and to enable them to control and monitor their environment using voice commands or mobile apps.\n",
    "\n",
    "Bezos also discussed the company's efforts to reduce its carbon footprint and promote sustainability. The company has set a goal to be carbon neutral by 2040 and has been investing in renewable energy projects and reducing the use of plastic in its packaging.\n",
    "\n",
    "Overall, Bezos' letter highlighted the company's commitment to innovation and growth and its investment in new technologies that will shape the future of industries."
   ]
  },
  {
   "cell_type": "code",
   "execution_count": null,
   "metadata": {},
   "outputs": [],
   "source": []
  },
  {
   "cell_type": "markdown",
   "metadata": {},
   "source": []
  }
 ],
 "metadata": {
  "kernelspec": {
   "display_name": "Python 3",
   "language": "python",
   "name": "python3"
  },
  "language_info": {
   "codemirror_mode": {
    "name": "ipython",
    "version": 3
   },
   "file_extension": ".py",
   "mimetype": "text/x-python",
   "name": "python",
   "nbconvert_exporter": "python",
   "pygments_lexer": "ipython3",
   "version": "3.11.7"
  }
 },
 "nbformat": 4,
 "nbformat_minor": 2
}
